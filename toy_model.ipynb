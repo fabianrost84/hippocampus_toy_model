{
 "cells": [
  {
   "cell_type": "markdown",
   "metadata": {},
   "source": [
    "# Hippocampus Neurogenesis Toy Model"
   ]
  },
  {
   "cell_type": "code",
   "execution_count": 1,
   "metadata": {
    "collapsed": false
   },
   "outputs": [
    {
     "data": {
      "text/html": [
       "\n",
       "    <div class=\"bk-root\">\n",
       "        <a href=\"http://bokeh.pydata.org\" target=\"_blank\" class=\"bk-logo bk-logo-small bk-logo-notebook\"></a>\n",
       "        <span id=\"ec32f7a4-2d09-46bd-baac-23b47e22da05\">Loading BokehJS ...</span>\n",
       "    </div>"
      ]
     },
     "metadata": {},
     "output_type": "display_data"
    },
    {
     "data": {
      "application/javascript": [
       "\n",
       "(function(global) {\n",
       "  function now() {\n",
       "    return new Date();\n",
       "  }\n",
       "\n",
       "  var force = \"1\";\n",
       "\n",
       "  if (typeof (window._bokeh_onload_callbacks) === \"undefined\" || force !== \"\") {\n",
       "    window._bokeh_onload_callbacks = [];\n",
       "    window._bokeh_is_loading = undefined;\n",
       "  }\n",
       "\n",
       "\n",
       "  \n",
       "  if (typeof (window._bokeh_timeout) === \"undefined\" || force !== \"\") {\n",
       "    window._bokeh_timeout = Date.now() + 5000;\n",
       "    window._bokeh_failed_load = false;\n",
       "  }\n",
       "\n",
       "  var NB_LOAD_WARNING = {'data': {'text/html':\n",
       "     \"<div style='background-color: #fdd'>\\n\"+\n",
       "     \"<p>\\n\"+\n",
       "     \"BokehJS does not appear to have successfully loaded. If loading BokehJS from CDN, this \\n\"+\n",
       "     \"may be due to a slow or bad network connection. Possible fixes:\\n\"+\n",
       "     \"</p>\\n\"+\n",
       "     \"<ul>\\n\"+\n",
       "     \"<li>re-rerun `output_notebook()` to attempt to load from CDN again, or</li>\\n\"+\n",
       "     \"<li>use INLINE resources instead, as so:</li>\\n\"+\n",
       "     \"</ul>\\n\"+\n",
       "     \"<code>\\n\"+\n",
       "     \"from bokeh.resources import INLINE\\n\"+\n",
       "     \"output_notebook(resources=INLINE)\\n\"+\n",
       "     \"</code>\\n\"+\n",
       "     \"</div>\"}};\n",
       "\n",
       "  function display_loaded() {\n",
       "    if (window.Bokeh !== undefined) {\n",
       "      Bokeh.$(\"#ec32f7a4-2d09-46bd-baac-23b47e22da05\").text(\"BokehJS successfully loaded.\");\n",
       "    } else if (Date.now() < window._bokeh_timeout) {\n",
       "      setTimeout(display_loaded, 100)\n",
       "    }\n",
       "  }\n",
       "\n",
       "  function run_callbacks() {\n",
       "    window._bokeh_onload_callbacks.forEach(function(callback) { callback() });\n",
       "    delete window._bokeh_onload_callbacks\n",
       "    console.info(\"Bokeh: all callbacks have finished\");\n",
       "  }\n",
       "\n",
       "  function load_libs(js_urls, callback) {\n",
       "    window._bokeh_onload_callbacks.push(callback);\n",
       "    if (window._bokeh_is_loading > 0) {\n",
       "      console.log(\"Bokeh: BokehJS is being loaded, scheduling callback at\", now());\n",
       "      return null;\n",
       "    }\n",
       "    if (js_urls == null || js_urls.length === 0) {\n",
       "      run_callbacks();\n",
       "      return null;\n",
       "    }\n",
       "    console.log(\"Bokeh: BokehJS not loaded, scheduling load and callback at\", now());\n",
       "    window._bokeh_is_loading = js_urls.length;\n",
       "    for (var i = 0; i < js_urls.length; i++) {\n",
       "      var url = js_urls[i];\n",
       "      var s = document.createElement('script');\n",
       "      s.src = url;\n",
       "      s.async = false;\n",
       "      s.onreadystatechange = s.onload = function() {\n",
       "        window._bokeh_is_loading--;\n",
       "        if (window._bokeh_is_loading === 0) {\n",
       "          console.log(\"Bokeh: all BokehJS libraries loaded\");\n",
       "          run_callbacks()\n",
       "        }\n",
       "      };\n",
       "      s.onerror = function() {\n",
       "        console.warn(\"failed to load library \" + url);\n",
       "      };\n",
       "      console.log(\"Bokeh: injecting script tag for BokehJS library: \", url);\n",
       "      document.getElementsByTagName(\"head\")[0].appendChild(s);\n",
       "    }\n",
       "  };var element = document.getElementById(\"ec32f7a4-2d09-46bd-baac-23b47e22da05\");\n",
       "  if (element == null) {\n",
       "    console.log(\"Bokeh: ERROR: autoload.js configured with elementid 'ec32f7a4-2d09-46bd-baac-23b47e22da05' but no matching script tag was found. \")\n",
       "    return false;\n",
       "  }\n",
       "\n",
       "  var js_urls = ['https://cdn.pydata.org/bokeh/release/bokeh-0.12.3.min.js', 'https://cdn.pydata.org/bokeh/release/bokeh-widgets-0.12.3.min.js'];\n",
       "\n",
       "  var inline_js = [\n",
       "    function(Bokeh) {\n",
       "      Bokeh.set_log_level(\"info\");\n",
       "    },\n",
       "    \n",
       "    function(Bokeh) {\n",
       "      \n",
       "      Bokeh.$(\"#ec32f7a4-2d09-46bd-baac-23b47e22da05\").text(\"BokehJS is loading...\");\n",
       "    },\n",
       "    function(Bokeh) {\n",
       "      console.log(\"Bokeh: injecting CSS: https://cdn.pydata.org/bokeh/release/bokeh-0.12.3.min.css\");\n",
       "      Bokeh.embed.inject_css(\"https://cdn.pydata.org/bokeh/release/bokeh-0.12.3.min.css\");\n",
       "      console.log(\"Bokeh: injecting CSS: https://cdn.pydata.org/bokeh/release/bokeh-widgets-0.12.3.min.css\");\n",
       "      Bokeh.embed.inject_css(\"https://cdn.pydata.org/bokeh/release/bokeh-widgets-0.12.3.min.css\");\n",
       "    }\n",
       "  ];\n",
       "\n",
       "  function run_inline_js() {\n",
       "    \n",
       "    if ((window.Bokeh !== undefined) || (force === \"1\")) {\n",
       "      for (var i = 0; i < inline_js.length; i++) {\n",
       "        inline_js[i](window.Bokeh);\n",
       "      }if (force === \"1\") {\n",
       "        display_loaded();\n",
       "      }} else if (Date.now() < window._bokeh_timeout) {\n",
       "      setTimeout(run_inline_js, 100);\n",
       "    } else if (!window._bokeh_failed_load) {\n",
       "      console.log(\"Bokeh: BokehJS failed to load within specified timeout.\");\n",
       "      window._bokeh_failed_load = true;\n",
       "    } else if (!force) {\n",
       "      var cell = $(\"#ec32f7a4-2d09-46bd-baac-23b47e22da05\").parents('.cell').data().cell;\n",
       "      cell.output_area.append_execute_result(NB_LOAD_WARNING)\n",
       "    }\n",
       "\n",
       "  }\n",
       "\n",
       "  if (window._bokeh_is_loading === 0) {\n",
       "    console.log(\"Bokeh: BokehJS loaded, going straight to plotting\");\n",
       "    run_inline_js();\n",
       "  } else {\n",
       "    load_libs(js_urls, function() {\n",
       "      console.log(\"Bokeh: BokehJS plotting callback run at\", now());\n",
       "      run_inline_js();\n",
       "    });\n",
       "  }\n",
       "}(this));"
      ]
     },
     "metadata": {},
     "output_type": "display_data"
    }
   ],
   "source": [
    "from ipywidgets import interact\n",
    "import numpy as np\n",
    "import scipy\n",
    "import scipy.integrate\n",
    "\n",
    "from bokeh.io import push_notebook, show, output_notebook\n",
    "from bokeh.plotting import figure\n",
    "output_notebook()"
   ]
  },
  {
   "cell_type": "code",
   "execution_count": 2,
   "metadata": {
    "collapsed": true
   },
   "outputs": [],
   "source": [
    "def func(N, t0, parameters):\n",
    "    dN0dt = parameters['r0'] * N[0]\n",
    "    dN1dt = parameters['r1'] * N[1]\n",
    "    return scipy.array([dN0dt, dN1dt])"
   ]
  },
  {
   "cell_type": "code",
   "execution_count": 3,
   "metadata": {
    "collapsed": true
   },
   "outputs": [],
   "source": [
    "def solve_ode(parameters):\n",
    "    t = scipy.linspace(parameters['t_min'], parameters['t_max'], 100)\n",
    "    N = scipy.integrate.odeint(func, (parameters['N0_0'], parameters['N1_0']), t, args = (parameters,))\n",
    "    N0, N1 = N[:,0], N[:,1]\n",
    "    return t, N0, N1"
   ]
  },
  {
   "cell_type": "code",
   "execution_count": 4,
   "metadata": {
    "collapsed": false
   },
   "outputs": [],
   "source": [
    "parameters = dict(t_min = 0.0,\n",
    "                  t_max = 1.0,\n",
    "                  r0 = 1.0,\n",
    "                  r1 = 10.0,\n",
    "                  N0_0 = 1.0,\n",
    "                  N1_0 = 1.0)"
   ]
  },
  {
   "cell_type": "code",
   "execution_count": 5,
   "metadata": {
    "collapsed": false
   },
   "outputs": [],
   "source": [
    "p = figure(title=\"simple line example\")\n",
    "t, N0, N1 = solve_ode(parameters)\n",
    "rN0 = p.line(t, N0)\n",
    "rN1 = p.line(t, N1, color = 'red')"
   ]
  },
  {
   "cell_type": "code",
   "execution_count": 6,
   "metadata": {
    "collapsed": true
   },
   "outputs": [],
   "source": [
    "def update(**keyw):\n",
    "    parameters.update(keyw)\n",
    "    t, N0, N1 = solve_ode(parameters)\n",
    "    rN0.data_source.data['x'] = t\n",
    "    rN1.data_source.data['x'] = t\n",
    "    rN0.data_source.data['y'] = N0\n",
    "    rN1.data_source.data['y'] = N1\n",
    "    push_notebook()"
   ]
  },
  {
   "cell_type": "code",
   "execution_count": 7,
   "metadata": {
    "collapsed": false
   },
   "outputs": [
    {
     "data": {
      "text/html": [
       "\n",
       "\n",
       "    <div class=\"bk-root\">\n",
       "        <div class=\"plotdiv\" id=\"70a543db-2934-4a6f-b263-20d31cea16f6\"></div>\n",
       "    </div>\n",
       "<script type=\"text/javascript\">\n",
       "  \n",
       "  (function(global) {\n",
       "    function now() {\n",
       "      return new Date();\n",
       "    }\n",
       "  \n",
       "    var force = \"\";\n",
       "  \n",
       "    if (typeof (window._bokeh_onload_callbacks) === \"undefined\" || force !== \"\") {\n",
       "      window._bokeh_onload_callbacks = [];\n",
       "      window._bokeh_is_loading = undefined;\n",
       "    }\n",
       "  \n",
       "  \n",
       "    \n",
       "    if (typeof (window._bokeh_timeout) === \"undefined\" || force !== \"\") {\n",
       "      window._bokeh_timeout = Date.now() + 0;\n",
       "      window._bokeh_failed_load = false;\n",
       "    }\n",
       "  \n",
       "    var NB_LOAD_WARNING = {'data': {'text/html':\n",
       "       \"<div style='background-color: #fdd'>\\n\"+\n",
       "       \"<p>\\n\"+\n",
       "       \"BokehJS does not appear to have successfully loaded. If loading BokehJS from CDN, this \\n\"+\n",
       "       \"may be due to a slow or bad network connection. Possible fixes:\\n\"+\n",
       "       \"</p>\\n\"+\n",
       "       \"<ul>\\n\"+\n",
       "       \"<li>re-rerun `output_notebook()` to attempt to load from CDN again, or</li>\\n\"+\n",
       "       \"<li>use INLINE resources instead, as so:</li>\\n\"+\n",
       "       \"</ul>\\n\"+\n",
       "       \"<code>\\n\"+\n",
       "       \"from bokeh.resources import INLINE\\n\"+\n",
       "       \"output_notebook(resources=INLINE)\\n\"+\n",
       "       \"</code>\\n\"+\n",
       "       \"</div>\"}};\n",
       "  \n",
       "    function display_loaded() {\n",
       "      if (window.Bokeh !== undefined) {\n",
       "        Bokeh.$(\"#70a543db-2934-4a6f-b263-20d31cea16f6\").text(\"BokehJS successfully loaded.\");\n",
       "      } else if (Date.now() < window._bokeh_timeout) {\n",
       "        setTimeout(display_loaded, 100)\n",
       "      }\n",
       "    }if ((window.Jupyter !== undefined) && Jupyter.notebook.kernel) {\n",
       "      comm_manager = Jupyter.notebook.kernel.comm_manager\n",
       "      comm_manager.register_target(\"4e8776df-eb11-44fb-8298-d22ef108dfe8\", function () {});\n",
       "    }\n",
       "  \n",
       "    function run_callbacks() {\n",
       "      window._bokeh_onload_callbacks.forEach(function(callback) { callback() });\n",
       "      delete window._bokeh_onload_callbacks\n",
       "      console.info(\"Bokeh: all callbacks have finished\");\n",
       "    }\n",
       "  \n",
       "    function load_libs(js_urls, callback) {\n",
       "      window._bokeh_onload_callbacks.push(callback);\n",
       "      if (window._bokeh_is_loading > 0) {\n",
       "        console.log(\"Bokeh: BokehJS is being loaded, scheduling callback at\", now());\n",
       "        return null;\n",
       "      }\n",
       "      if (js_urls == null || js_urls.length === 0) {\n",
       "        run_callbacks();\n",
       "        return null;\n",
       "      }\n",
       "      console.log(\"Bokeh: BokehJS not loaded, scheduling load and callback at\", now());\n",
       "      window._bokeh_is_loading = js_urls.length;\n",
       "      for (var i = 0; i < js_urls.length; i++) {\n",
       "        var url = js_urls[i];\n",
       "        var s = document.createElement('script');\n",
       "        s.src = url;\n",
       "        s.async = false;\n",
       "        s.onreadystatechange = s.onload = function() {\n",
       "          window._bokeh_is_loading--;\n",
       "          if (window._bokeh_is_loading === 0) {\n",
       "            console.log(\"Bokeh: all BokehJS libraries loaded\");\n",
       "            run_callbacks()\n",
       "          }\n",
       "        };\n",
       "        s.onerror = function() {\n",
       "          console.warn(\"failed to load library \" + url);\n",
       "        };\n",
       "        console.log(\"Bokeh: injecting script tag for BokehJS library: \", url);\n",
       "        document.getElementsByTagName(\"head\")[0].appendChild(s);\n",
       "      }\n",
       "    };var element = document.getElementById(\"70a543db-2934-4a6f-b263-20d31cea16f6\");\n",
       "    if (element == null) {\n",
       "      console.log(\"Bokeh: ERROR: autoload.js configured with elementid '70a543db-2934-4a6f-b263-20d31cea16f6' but no matching script tag was found. \")\n",
       "      return false;\n",
       "    }\n",
       "  \n",
       "    var js_urls = [];\n",
       "  \n",
       "    var inline_js = [\n",
       "      function(Bokeh) {\n",
       "        Bokeh.$(function() {\n",
       "            var docs_json = {\"6c31ac01-4d60-4037-96ab-3485c94429be\":{\"roots\":{\"references\":[{\"attributes\":{\"plot\":{\"id\":\"ea813c18-8113-4e15-933e-015a339fce4b\",\"subtype\":\"Figure\",\"type\":\"Plot\"}},\"id\":\"7751a386-37fd-4126-a403-f310f77f45d7\",\"type\":\"SaveTool\"},{\"attributes\":{\"line_color\":{\"value\":\"red\"},\"x\":{\"field\":\"x\"},\"y\":{\"field\":\"y\"}},\"id\":\"729d74f6-60bd-4424-9290-4e4771472914\",\"type\":\"Line\"},{\"attributes\":{},\"id\":\"991975bd-3cb9-4363-8a20-6039fd389ba2\",\"type\":\"BasicTicker\"},{\"attributes\":{\"formatter\":{\"id\":\"212d15f0-1f8d-4d8a-b2cf-15627bfd17f4\",\"type\":\"BasicTickFormatter\"},\"plot\":{\"id\":\"ea813c18-8113-4e15-933e-015a339fce4b\",\"subtype\":\"Figure\",\"type\":\"Plot\"},\"ticker\":{\"id\":\"021cf348-653e-4715-8230-be3aa8c5a287\",\"type\":\"BasicTicker\"}},\"id\":\"f26baf2a-0bde-4ae9-94b5-f4244e4de45f\",\"type\":\"LinearAxis\"},{\"attributes\":{\"callback\":null},\"id\":\"9ffa14ad-cf82-4c66-9404-2859647ad559\",\"type\":\"DataRange1d\"},{\"attributes\":{\"plot\":{\"id\":\"ea813c18-8113-4e15-933e-015a339fce4b\",\"subtype\":\"Figure\",\"type\":\"Plot\"},\"ticker\":{\"id\":\"991975bd-3cb9-4363-8a20-6039fd389ba2\",\"type\":\"BasicTicker\"}},\"id\":\"8ed99fb2-0bee-454e-89b0-416c6a281b67\",\"type\":\"Grid\"},{\"attributes\":{\"plot\":{\"id\":\"ea813c18-8113-4e15-933e-015a339fce4b\",\"subtype\":\"Figure\",\"type\":\"Plot\"}},\"id\":\"8b101a1a-544c-4b25-b773-b1a5a02b8323\",\"type\":\"WheelZoomTool\"},{\"attributes\":{\"plot\":{\"id\":\"ea813c18-8113-4e15-933e-015a339fce4b\",\"subtype\":\"Figure\",\"type\":\"Plot\"}},\"id\":\"5090d629-90f3-48e9-93e4-7750ca2e5289\",\"type\":\"HelpTool\"},{\"attributes\":{\"callback\":null,\"column_names\":[\"x\",\"y\"],\"data\":{\"x\":[0.0,0.010101010101010102,0.020202020202020204,0.030303030303030304,0.04040404040404041,0.05050505050505051,0.06060606060606061,0.07070707070707072,0.08080808080808081,0.09090909090909091,0.10101010101010102,0.11111111111111112,0.12121212121212122,0.13131313131313133,0.14141414141414144,0.15151515151515152,0.16161616161616163,0.17171717171717174,0.18181818181818182,0.19191919191919193,0.20202020202020204,0.21212121212121213,0.22222222222222224,0.23232323232323235,0.24242424242424243,0.25252525252525254,0.26262626262626265,0.27272727272727276,0.2828282828282829,0.29292929292929293,0.30303030303030304,0.31313131313131315,0.32323232323232326,0.33333333333333337,0.3434343434343435,0.3535353535353536,0.36363636363636365,0.37373737373737376,0.38383838383838387,0.393939393939394,0.4040404040404041,0.4141414141414142,0.42424242424242425,0.43434343434343436,0.4444444444444445,0.4545454545454546,0.4646464646464647,0.4747474747474748,0.48484848484848486,0.494949494949495,0.5050505050505051,0.5151515151515152,0.5252525252525253,0.5353535353535354,0.5454545454545455,0.5555555555555556,0.5656565656565657,0.5757575757575758,0.5858585858585859,0.595959595959596,0.6060606060606061,0.6161616161616162,0.6262626262626263,0.6363636363636365,0.6464646464646465,0.6565656565656566,0.6666666666666667,0.6767676767676768,0.686868686868687,0.696969696969697,0.7070707070707072,0.7171717171717172,0.7272727272727273,0.7373737373737375,0.7474747474747475,0.7575757575757577,0.7676767676767677,0.7777777777777778,0.787878787878788,0.797979797979798,0.8080808080808082,0.8181818181818182,0.8282828282828284,0.8383838383838385,0.8484848484848485,0.8585858585858587,0.8686868686868687,0.8787878787878789,0.888888888888889,0.8989898989898991,0.9090909090909092,0.9191919191919192,0.9292929292929294,0.9393939393939394,0.9494949494949496,0.9595959595959597,0.9696969696969697,0.9797979797979799,0.98989898989899,1.0],\"y\":[1.0,1.0101521974916132,1.020407462111569,1.0307668402042383,1.0412313887490185,1.051802175457593,1.062480278880645,1.0732667885186549,1.0841628049329388,1.0951694398578244,1.1062878163143905,1.117519068724685,1.1288643430276981,1.140324796796201,1.1519015993548762,1.1635959318996212,1.1754089876180678,1.1873419718113234,1.1993961020169508,1.211572608133195,1.2238727325444714,1.2362977302481257,1.2488488689824861,1.2615274293562098,1.2743347049789457,1.2872720025933246,1.3003406422082855,1.3135419572337592,1.3268772946167176,1.3403480149786038,1.3539554927541593,1.3677011163316581,1.3815862881945662,1.3956124250646387,1.4097809580464697,1.4240933327735101,1.4385510095555671,1.4531554635278012,1.4679081848012365,1.4828106786147988,1.497864465488896,1.5130710813805603,1.5284320778401628,1.5439490221697203,1.5596234975828098,1.575457103366104,1.591451455042551,1.6076081845362062,1.6239289403387407,1.6404153876776384,1.6570692086861016,1.6738921025746814,1.690885785804649,1.7080519922631312,1.725392473440018,1.7429089986066706,1.7606033549964435,1.7784773479870362,1.7965328012846997,1.8147715571103116,1.8331954763873382,1.85180643893171,1.8706063436436187,1.8895971087012668,1.9087806717565803,1.9281589901329104,1.9477340410247417,1.967507821699427,1.987482349700973,2.0076596630558905,2.028041820481138,2.048630901594176,2.0694290071251515,2.0904382591312394,2.1116608012131577,2.1330987987338825,2.1547544390395825,2.1766299316827964,2.198727508647877,2.221049424578723,2.243597957008823,2.266375406593636,2.289384097345329,2.3126263768699005,2.3361046166067068,2.3598212120704276,2.383778583095478,2.407979174082913,2.4324254542498265,2.4571199178812955,2.4820650845848684,2.5072634995476495,2.5327177337959847,2.558430384457786,2.584404075027523,2.6106414556338975,2.637145203310242,2.66391802226766,2.6909626441709404,2.7182818284172727]}},\"id\":\"e77fa379-d5a6-4080-9113-80913e41c478\",\"type\":\"ColumnDataSource\"},{\"attributes\":{\"formatter\":{\"id\":\"932c47ad-1578-4349-b8ae-d385d4ba3a16\",\"type\":\"BasicTickFormatter\"},\"plot\":{\"id\":\"ea813c18-8113-4e15-933e-015a339fce4b\",\"subtype\":\"Figure\",\"type\":\"Plot\"},\"ticker\":{\"id\":\"991975bd-3cb9-4363-8a20-6039fd389ba2\",\"type\":\"BasicTicker\"}},\"id\":\"5e65cfd6-2535-43d7-8d88-5b7329d6e000\",\"type\":\"LinearAxis\"},{\"attributes\":{\"active_drag\":\"auto\",\"active_scroll\":\"auto\",\"active_tap\":\"auto\",\"tools\":[{\"id\":\"32d826ac-07c5-4efa-987b-76880c7e3778\",\"type\":\"PanTool\"},{\"id\":\"8b101a1a-544c-4b25-b773-b1a5a02b8323\",\"type\":\"WheelZoomTool\"},{\"id\":\"63872671-7da6-4bac-83e4-4cb869da545f\",\"type\":\"BoxZoomTool\"},{\"id\":\"7751a386-37fd-4126-a403-f310f77f45d7\",\"type\":\"SaveTool\"},{\"id\":\"b2df5196-b1c9-4ab9-8164-0c5c77bd2530\",\"type\":\"ResetTool\"},{\"id\":\"5090d629-90f3-48e9-93e4-7750ca2e5289\",\"type\":\"HelpTool\"}]},\"id\":\"25ebeffa-33d0-43af-893d-163eecf3c7ee\",\"type\":\"Toolbar\"},{\"attributes\":{\"data_source\":{\"id\":\"b56c2c4b-af8f-4ff3-9117-9a35d100451a\",\"type\":\"ColumnDataSource\"},\"glyph\":{\"id\":\"729d74f6-60bd-4424-9290-4e4771472914\",\"type\":\"Line\"},\"hover_glyph\":null,\"nonselection_glyph\":{\"id\":\"88047f86-cfa7-4e56-8f50-d438cc65786b\",\"type\":\"Line\"},\"selection_glyph\":null},\"id\":\"4a20b5ff-ab51-4480-aae4-fda6f91c0051\",\"type\":\"GlyphRenderer\"},{\"attributes\":{},\"id\":\"021cf348-653e-4715-8230-be3aa8c5a287\",\"type\":\"BasicTicker\"},{\"attributes\":{},\"id\":\"212d15f0-1f8d-4d8a-b2cf-15627bfd17f4\",\"type\":\"BasicTickFormatter\"},{\"attributes\":{\"overlay\":{\"id\":\"3aef458c-6690-40ae-b2c1-1671551a8131\",\"type\":\"BoxAnnotation\"},\"plot\":{\"id\":\"ea813c18-8113-4e15-933e-015a339fce4b\",\"subtype\":\"Figure\",\"type\":\"Plot\"}},\"id\":\"63872671-7da6-4bac-83e4-4cb869da545f\",\"type\":\"BoxZoomTool\"},{\"attributes\":{\"callback\":null},\"id\":\"b07818e0-4f6c-4c6a-b82c-bcf27b095dea\",\"type\":\"DataRange1d\"},{\"attributes\":{\"plot\":null,\"text\":\"simple line example\"},\"id\":\"86e1c2d8-1031-4851-a98b-4afc4509d7cf\",\"type\":\"Title\"},{\"attributes\":{},\"id\":\"cb94d55d-ddb8-4c04-bcb4-35408f1de43e\",\"type\":\"ToolEvents\"},{\"attributes\":{\"dimension\":1,\"plot\":{\"id\":\"ea813c18-8113-4e15-933e-015a339fce4b\",\"subtype\":\"Figure\",\"type\":\"Plot\"},\"ticker\":{\"id\":\"021cf348-653e-4715-8230-be3aa8c5a287\",\"type\":\"BasicTicker\"}},\"id\":\"2302c1ad-1f10-4c8a-ae3c-ff1c6e51d894\",\"type\":\"Grid\"},{\"attributes\":{\"callback\":null,\"column_names\":[\"x\",\"y\"],\"data\":{\"x\":[0.0,0.010101010101010102,0.020202020202020204,0.030303030303030304,0.04040404040404041,0.05050505050505051,0.06060606060606061,0.07070707070707072,0.08080808080808081,0.09090909090909091,0.10101010101010102,0.11111111111111112,0.12121212121212122,0.13131313131313133,0.14141414141414144,0.15151515151515152,0.16161616161616163,0.17171717171717174,0.18181818181818182,0.19191919191919193,0.20202020202020204,0.21212121212121213,0.22222222222222224,0.23232323232323235,0.24242424242424243,0.25252525252525254,0.26262626262626265,0.27272727272727276,0.2828282828282829,0.29292929292929293,0.30303030303030304,0.31313131313131315,0.32323232323232326,0.33333333333333337,0.3434343434343435,0.3535353535353536,0.36363636363636365,0.37373737373737376,0.38383838383838387,0.393939393939394,0.4040404040404041,0.4141414141414142,0.42424242424242425,0.43434343434343436,0.4444444444444445,0.4545454545454546,0.4646464646464647,0.4747474747474748,0.48484848484848486,0.494949494949495,0.5050505050505051,0.5151515151515152,0.5252525252525253,0.5353535353535354,0.5454545454545455,0.5555555555555556,0.5656565656565657,0.5757575757575758,0.5858585858585859,0.595959595959596,0.6060606060606061,0.6161616161616162,0.6262626262626263,0.6363636363636365,0.6464646464646465,0.6565656565656566,0.6666666666666667,0.6767676767676768,0.686868686868687,0.696969696969697,0.7070707070707072,0.7171717171717172,0.7272727272727273,0.7373737373737375,0.7474747474747475,0.7575757575757577,0.7676767676767677,0.7777777777777778,0.787878787878788,0.797979797979798,0.8080808080808082,0.8181818181818182,0.8282828282828284,0.8383838383838385,0.8484848484848485,0.8585858585858587,0.8686868686868687,0.8787878787878789,0.888888888888889,0.8989898989898991,0.9090909090909092,0.9191919191919192,0.9292929292929294,0.9393939393939394,0.9494949494949496,0.9595959595959597,0.9696969696969697,0.9797979797979799,0.98989898989899,1.0],\"y\":[1.0,1.1062878090315116,1.2238727195487389,1.3539555003570423,1.4978644578282991,1.6570692045181163,1.833195476302861,2.0280418459756593,2.2435980523754138,2.4820651369196898,2.7458784360146367,3.037731863103994,3.360605751975698,3.7177972068156273,4.112953759558388,4.550110640404706,5.03373198640736,5.568756377664282,6.160647321780243,6.815449061737368,7.539848263810878,8.341242277143953,9.227814710891103,10.208618994539117,11.293670821641197,12.494050440134671,13.822015790372706,15.29112769799494,16.916388303049438,18.714394325128183,20.703506455354425,22.904036992687832,25.33845713013642,28.031626442350422,31.011046881584463,34.30714339396539,37.95357480827853,41.98757750985887,46.450345492496616,51.3874513836688,56.84931151242557,62.89170076902943,69.57632248014319,76.97143799917175,85.15256419037243,94.20324454752691,104.21590183083553,115.29278268418024,127.54700110263299,141.10369349742115,156.10129733044965,172.6929636654615,191.04812194471899,211.35421021157856,233.8185879845088,258.6706556002193,286.1641954394951,316.57996325779004,350.2285570677651,387.4535863533002,428.63518257734694,474.1938814156121,524.5949142760757,580.352963221235,642.0374139996158,710.2781695670882,785.772086995205,869.2900879784509,961.6850344997782,1063.900439672374,1176.9800957949708,1302.0787423253532,1440.4738522272569,1593.578674319776,1762.9566756959753,1950.3374950522345,2157.6346113773047,2386.964889021794,2640.670178456936,2921.3412503470345,3231.8442410049884,3575.3499122736075,3955.366055661456,4375.773285820171,4840.864679406365,5355.389629446287,5924.602307474341,6554.315360188686,7250.95924645454,8021.647880469147,8874.251335832645,9817.47615346388,10860.954269461326,12015.341413224154,13292.425834970787,14705.248774273985,16268.237598358552,17997.353069542754,19910.252468027993,22026.469775310758]}},\"id\":\"b56c2c4b-af8f-4ff3-9117-9a35d100451a\",\"type\":\"ColumnDataSource\"},{\"attributes\":{\"line_alpha\":{\"value\":0.1},\"line_color\":{\"value\":\"#1f77b4\"},\"x\":{\"field\":\"x\"},\"y\":{\"field\":\"y\"}},\"id\":\"d7d2d0a6-846b-490f-be84-e5dba6c24d49\",\"type\":\"Line\"},{\"attributes\":{\"plot\":{\"id\":\"ea813c18-8113-4e15-933e-015a339fce4b\",\"subtype\":\"Figure\",\"type\":\"Plot\"}},\"id\":\"b2df5196-b1c9-4ab9-8164-0c5c77bd2530\",\"type\":\"ResetTool\"},{\"attributes\":{\"plot\":{\"id\":\"ea813c18-8113-4e15-933e-015a339fce4b\",\"subtype\":\"Figure\",\"type\":\"Plot\"}},\"id\":\"32d826ac-07c5-4efa-987b-76880c7e3778\",\"type\":\"PanTool\"},{\"attributes\":{\"line_alpha\":{\"value\":0.1},\"line_color\":{\"value\":\"#1f77b4\"},\"x\":{\"field\":\"x\"},\"y\":{\"field\":\"y\"}},\"id\":\"88047f86-cfa7-4e56-8f50-d438cc65786b\",\"type\":\"Line\"},{\"attributes\":{\"line_color\":{\"value\":\"#1f77b4\"},\"x\":{\"field\":\"x\"},\"y\":{\"field\":\"y\"}},\"id\":\"f18bc448-fe27-434b-848b-2fc8d150b997\",\"type\":\"Line\"},{\"attributes\":{\"bottom_units\":\"screen\",\"fill_alpha\":{\"value\":0.5},\"fill_color\":{\"value\":\"lightgrey\"},\"left_units\":\"screen\",\"level\":\"overlay\",\"line_alpha\":{\"value\":1.0},\"line_color\":{\"value\":\"black\"},\"line_dash\":[4,4],\"line_width\":{\"value\":2},\"plot\":null,\"render_mode\":\"css\",\"right_units\":\"screen\",\"top_units\":\"screen\"},\"id\":\"3aef458c-6690-40ae-b2c1-1671551a8131\",\"type\":\"BoxAnnotation\"},{\"attributes\":{\"below\":[{\"id\":\"5e65cfd6-2535-43d7-8d88-5b7329d6e000\",\"type\":\"LinearAxis\"}],\"left\":[{\"id\":\"f26baf2a-0bde-4ae9-94b5-f4244e4de45f\",\"type\":\"LinearAxis\"}],\"renderers\":[{\"id\":\"5e65cfd6-2535-43d7-8d88-5b7329d6e000\",\"type\":\"LinearAxis\"},{\"id\":\"8ed99fb2-0bee-454e-89b0-416c6a281b67\",\"type\":\"Grid\"},{\"id\":\"f26baf2a-0bde-4ae9-94b5-f4244e4de45f\",\"type\":\"LinearAxis\"},{\"id\":\"2302c1ad-1f10-4c8a-ae3c-ff1c6e51d894\",\"type\":\"Grid\"},{\"id\":\"3aef458c-6690-40ae-b2c1-1671551a8131\",\"type\":\"BoxAnnotation\"},{\"id\":\"e41abd6c-0d22-467f-8426-d0b3116a8841\",\"type\":\"GlyphRenderer\"},{\"id\":\"4a20b5ff-ab51-4480-aae4-fda6f91c0051\",\"type\":\"GlyphRenderer\"}],\"title\":{\"id\":\"86e1c2d8-1031-4851-a98b-4afc4509d7cf\",\"type\":\"Title\"},\"tool_events\":{\"id\":\"cb94d55d-ddb8-4c04-bcb4-35408f1de43e\",\"type\":\"ToolEvents\"},\"toolbar\":{\"id\":\"25ebeffa-33d0-43af-893d-163eecf3c7ee\",\"type\":\"Toolbar\"},\"x_range\":{\"id\":\"9ffa14ad-cf82-4c66-9404-2859647ad559\",\"type\":\"DataRange1d\"},\"y_range\":{\"id\":\"b07818e0-4f6c-4c6a-b82c-bcf27b095dea\",\"type\":\"DataRange1d\"}},\"id\":\"ea813c18-8113-4e15-933e-015a339fce4b\",\"subtype\":\"Figure\",\"type\":\"Plot\"},{\"attributes\":{},\"id\":\"932c47ad-1578-4349-b8ae-d385d4ba3a16\",\"type\":\"BasicTickFormatter\"},{\"attributes\":{\"data_source\":{\"id\":\"e77fa379-d5a6-4080-9113-80913e41c478\",\"type\":\"ColumnDataSource\"},\"glyph\":{\"id\":\"f18bc448-fe27-434b-848b-2fc8d150b997\",\"type\":\"Line\"},\"hover_glyph\":null,\"nonselection_glyph\":{\"id\":\"d7d2d0a6-846b-490f-be84-e5dba6c24d49\",\"type\":\"Line\"},\"selection_glyph\":null},\"id\":\"e41abd6c-0d22-467f-8426-d0b3116a8841\",\"type\":\"GlyphRenderer\"}],\"root_ids\":[\"ea813c18-8113-4e15-933e-015a339fce4b\"]},\"title\":\"Bokeh Application\",\"version\":\"0.12.3\"}};\n",
       "            var render_items = [{\"docid\":\"6c31ac01-4d60-4037-96ab-3485c94429be\",\"elementid\":\"70a543db-2934-4a6f-b263-20d31cea16f6\",\"modelid\":\"ea813c18-8113-4e15-933e-015a339fce4b\",\"notebook_comms_target\":\"4e8776df-eb11-44fb-8298-d22ef108dfe8\"}];\n",
       "            \n",
       "            Bokeh.embed.embed_items(docs_json, render_items);\n",
       "        });\n",
       "      },\n",
       "      function(Bokeh) {\n",
       "      }\n",
       "    ];\n",
       "  \n",
       "    function run_inline_js() {\n",
       "      \n",
       "      if ((window.Bokeh !== undefined) || (force === \"1\")) {\n",
       "        for (var i = 0; i < inline_js.length; i++) {\n",
       "          inline_js[i](window.Bokeh);\n",
       "        }if (force === \"1\") {\n",
       "          display_loaded();\n",
       "        }} else if (Date.now() < window._bokeh_timeout) {\n",
       "        setTimeout(run_inline_js, 100);\n",
       "      } else if (!window._bokeh_failed_load) {\n",
       "        console.log(\"Bokeh: BokehJS failed to load within specified timeout.\");\n",
       "        window._bokeh_failed_load = true;\n",
       "      } else if (!force) {\n",
       "        var cell = $(\"#70a543db-2934-4a6f-b263-20d31cea16f6\").parents('.cell').data().cell;\n",
       "        cell.output_area.append_execute_result(NB_LOAD_WARNING)\n",
       "      }\n",
       "  \n",
       "    }\n",
       "  \n",
       "    if (window._bokeh_is_loading === 0) {\n",
       "      console.log(\"Bokeh: BokehJS loaded, going straight to plotting\");\n",
       "      run_inline_js();\n",
       "    } else {\n",
       "      load_libs(js_urls, function() {\n",
       "        console.log(\"Bokeh: BokehJS plotting callback run at\", now());\n",
       "        run_inline_js();\n",
       "      });\n",
       "    }\n",
       "  }(this));\n",
       "</script>"
      ]
     },
     "metadata": {},
     "output_type": "display_data"
    }
   ],
   "source": [
    "show(p, notebook_handle=True);"
   ]
  },
  {
   "cell_type": "code",
   "execution_count": 8,
   "metadata": {
    "collapsed": false
   },
   "outputs": [],
   "source": [
    "interact(update, N0_0 = (0, 10, 0.1), N1_0 = (0, 10, 0.1), r0 = (0, 10, 0.1), r1 = (0, 10, 0.1), t_max = (0.1, 10, 0.1))"
   ]
  },
  {
   "cell_type": "code",
   "execution_count": null,
   "metadata": {
    "collapsed": true
   },
   "outputs": [],
   "source": []
  }
 ],
 "metadata": {
  "anaconda-cloud": {},
  "kernelspec": {
   "display_name": "Python [conda env:py3]",
   "language": "python",
   "name": "conda-env-py3-py"
  },
  "language_info": {
   "codemirror_mode": {
    "name": "ipython",
    "version": 3
   },
   "file_extension": ".py",
   "mimetype": "text/x-python",
   "name": "python",
   "nbconvert_exporter": "python",
   "pygments_lexer": "ipython3",
   "version": "3.5.2"
  },
  "toc": {
   "nav_menu": {
    "height": "47px",
    "width": "252px"
   },
   "navigate_menu": true,
   "number_sections": true,
   "sideBar": true,
   "threshold": 4,
   "toc_cell": false,
   "toc_section_display": "block",
   "toc_window_display": false
  },
  "widgets": {
   "state": {
    "233b737df1234e11808d364671e97eda": {
     "views": [
      {
       "cell_index": 8
      }
     ]
    }
   },
   "version": "1.2.0"
  }
 },
 "nbformat": 4,
 "nbformat_minor": 1
}
